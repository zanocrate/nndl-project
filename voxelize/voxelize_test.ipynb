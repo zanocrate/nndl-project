{
 "cells": [
  {
   "cell_type": "markdown",
   "id": "a4f4501d",
   "metadata": {},
   "source": [
    "_Alessandro Zanoli, 29/11/22_\n",
    "\n",
    "Here I am trying several methods for voxelizing triangular meshes (as defined in an `.off` file).\n",
    "First library tested is Open3D (<a href=\"http://www.open3d.org/docs/latest/index.html\">documentation here</a>)."
   ]
  },
  {
   "cell_type": "code",
   "execution_count": 57,
   "id": "b4db98ff",
   "metadata": {},
   "outputs": [
    {
     "data": {
      "text/plain": [
       "'bathtub_0001.off'"
      ]
     },
     "execution_count": 57,
     "metadata": {},
     "output_type": "execute_result"
    }
   ],
   "source": [
    "# open3d\n",
    "import open3d as o3d\n",
    "import numpy as np\n",
    "import os\n",
    "import tqdm\n",
    "\n",
    "# get the off_file name that is in the current directory\n",
    "off_file = !ls *.off\n",
    "off_file = off_file[0]\n",
    "off_file"
   ]
  },
  {
   "cell_type": "code",
   "execution_count": null,
   "id": "bb94dccd",
   "metadata": {},
   "outputs": [],
   "source": []
  },
  {
   "cell_type": "code",
   "execution_count": 13,
   "id": "459845ef",
   "metadata": {},
   "outputs": [
    {
     "data": {
      "text/plain": [
       "TriangleMesh with 3514 points and 3546 triangles."
      ]
     },
     "execution_count": 13,
     "metadata": {},
     "output_type": "execute_result"
    }
   ],
   "source": [
    "# load the off file\n",
    "obj=o3d.io.read_triangle_mesh(off_file)\n",
    "obj"
   ]
  },
  {
   "cell_type": "code",
   "execution_count": 14,
   "id": "5465c7f1",
   "metadata": {},
   "outputs": [],
   "source": [
    "voxel_grid = o3d.geometry.VoxelGrid.create_from_triangle_mesh(obj,\n",
    "                                                              voxel_size=1)"
   ]
  },
  {
   "cell_type": "code",
   "execution_count": 15,
   "id": "6249f253",
   "metadata": {},
   "outputs": [],
   "source": [
    "voxels = voxel_grid.get_voxels()  # returns list of voxels\n",
    "indices = np.stack(list(vx.grid_index for vx in voxels))\n",
    "colors = np.stack(list(vx.color for vx in voxels))"
   ]
  },
  {
   "cell_type": "code",
   "execution_count": 50,
   "id": "13d85deb",
   "metadata": {},
   "outputs": [],
   "source": [
    "x = np.array([0.,1000.,0])\n",
    "x[obj.get_max_bound() > x] = obj.get_max_bound()[obj.get_max_bound() > x]"
   ]
  },
  {
   "cell_type": "code",
   "execution_count": 51,
   "id": "e47cf4a5",
   "metadata": {},
   "outputs": [
    {
     "data": {
      "text/plain": [
       "array([  18.51429939, 1000.        ,   23.28820038])"
      ]
     },
     "execution_count": 51,
     "metadata": {},
     "output_type": "execute_result"
    }
   ],
   "source": [
    "x\n"
   ]
  },
  {
   "cell_type": "code",
   "execution_count": null,
   "id": "16b3a96b",
   "metadata": {},
   "outputs": [],
   "source": []
  },
  {
   "cell_type": "code",
   "execution_count": null,
   "id": "0fc7a56d",
   "metadata": {},
   "outputs": [],
   "source": []
  }
 ],
 "metadata": {
  "kernelspec": {
   "display_name": "Python 3 (ipykernel)",
   "language": "python",
   "name": "python3"
  },
  "language_info": {
   "codemirror_mode": {
    "name": "ipython",
    "version": 3
   },
   "file_extension": ".py",
   "mimetype": "text/x-python",
   "name": "python",
   "nbconvert_exporter": "python",
   "pygments_lexer": "ipython3",
   "version": "3.9.12"
  }
 },
 "nbformat": 4,
 "nbformat_minor": 5
}
