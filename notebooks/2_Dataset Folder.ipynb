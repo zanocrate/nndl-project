{
 "cells": [
  {
   "cell_type": "code",
   "execution_count": 39,
   "metadata": {},
   "outputs": [],
   "source": [
    "import os\n",
    "os.chdir('/home/ubuntu/nndl-project/')\n",
    "\n",
    "import open3d as o3d\n",
    "import tqdm\n",
    "import pandas as pd\n",
    "import numpy as np\n",
    "\n",
    "from src.dataset import load_voxel_grid # voxelization function"
   ]
  },
  {
   "cell_type": "markdown",
   "metadata": {},
   "source": [
    "# 1) Preprocessing the ModelNet datasets\n",
    "\n",
    "Both the <a href='https://lmb.informatik.uni-freiburg.de/resources/datasets/ORION/modelnet40_manually_aligned.tar'>ModelNet40 (manually aligned)</a> and the <a href='http://3dvision.princeton.edu/projects/2014/3DShapeNets/ModelNet10.zip'>ModelNet10</a> databases come organized in folders like:\n",
    "\n",
    "```\n",
    "├── _label\n",
    "    ├── _train\n",
    "    |   ├── label_001.off\n",
    "    |       ...\n",
    "    └── _train\n",
    "        └── label_101.off\n",
    "            ...\n",
    "    ...\n",
    "```\n",
    "\n",
    "Since our voxelization algorithm relies on `PyVista`, we cannot load directly `.off` files as meshes. We will need to convert them in the correct format with the help of another library, `Open3D`. "
   ]
  },
  {
   "cell_type": "code",
   "execution_count": 11,
   "metadata": {},
   "outputs": [
    {
     "name": "stdout",
     "output_type": "stream",
     "text": [
      "mv: cannot move '/home/ubuntu/nndl-project/data/modelnet10/off' to a subdirectory of itself, '/home/ubuntu/nndl-project/data/modelnet10/off/off'\n"
     ]
    }
   ],
   "source": [
    "# define modelnet directory\n",
    "dataset_dir = '/home/ubuntu/nndl-project/data/modelnet10/'\n",
    "\n",
    "# first, let's move all current models in a subdirectory off/\n",
    "\n",
    "!mkdir -p /home/ubuntu/nndl-project/data/modelnet10/off\n",
    "!mv /home/ubuntu/nndl-project/data/modelnet10/* /home/ubuntu/nndl-project/data/modelnet10/off/"
   ]
  },
  {
   "cell_type": "code",
   "execution_count": 18,
   "metadata": {},
   "outputs": [
    {
     "name": "stderr",
     "output_type": "stream",
     "text": [
      "100%|██████████| 31/31 [02:29<00:00,  4.83s/it]\n"
     ]
    }
   ],
   "source": [
    "# then we walk \n",
    "ROOT = dataset_dir+'off/'\n",
    "\n",
    "!mkdir -p /home/ubuntu/nndl-project/data/modelnet10/ply\n",
    "\n",
    "\n",
    "\n",
    "pbar = tqdm.tqdm(list(os.walk(ROOT)))\n",
    "\n",
    "for path,subdirs,files in pbar:\n",
    "    for f in files:\n",
    "        if f[-4:] != '.off': continue # skip non .off files\n",
    "        \n",
    "        filename,extension = f.split('.')\n",
    "        destination_path = path.replace(\"/off/\", \"/ply/\")+'/{}.ply'.format(filename)\n",
    "        if not os.path.exists(path.replace(\"/off/\", \"/ply/\")): os.makedirs(path.replace(\"/off/\", \"/ply/\"))\n",
    "        \n",
    "        mesh = o3d.io.read_triangle_mesh(path+'/'+f)\n",
    "        o3d.io.write_triangle_mesh(destination_path, mesh)"
   ]
  },
  {
   "cell_type": "markdown",
   "metadata": {},
   "source": [
    "Now, let's check the content of our newly creater `ply/` directory:"
   ]
  },
  {
   "cell_type": "code",
   "execution_count": 19,
   "metadata": {},
   "outputs": [
    {
     "name": "stdout",
     "output_type": "stream",
     "text": [
      "bathtub  bed  chair  desk  dresser  monitor  night_stand  sofa\ttable  toilet\n"
     ]
    }
   ],
   "source": [
    "!ls /home/ubuntu/nndl-project/data/modelnet10/ply"
   ]
  },
  {
   "cell_type": "code",
   "execution_count": 20,
   "metadata": {},
   "outputs": [
    {
     "name": "stdout",
     "output_type": "stream",
     "text": [
      "bathtub_0107.ply  bathtub_0120.ply  bathtub_0133.ply  bathtub_0146.ply\n",
      "bathtub_0108.ply  bathtub_0121.ply  bathtub_0134.ply  bathtub_0147.ply\n",
      "bathtub_0109.ply  bathtub_0122.ply  bathtub_0135.ply  bathtub_0148.ply\n",
      "bathtub_0110.ply  bathtub_0123.ply  bathtub_0136.ply  bathtub_0149.ply\n",
      "bathtub_0111.ply  bathtub_0124.ply  bathtub_0137.ply  bathtub_0150.ply\n",
      "bathtub_0112.ply  bathtub_0125.ply  bathtub_0138.ply  bathtub_0151.ply\n",
      "bathtub_0113.ply  bathtub_0126.ply  bathtub_0139.ply  bathtub_0152.ply\n",
      "bathtub_0114.ply  bathtub_0127.ply  bathtub_0140.ply  bathtub_0153.ply\n",
      "bathtub_0115.ply  bathtub_0128.ply  bathtub_0141.ply  bathtub_0154.ply\n",
      "bathtub_0116.ply  bathtub_0129.ply  bathtub_0142.ply  bathtub_0155.ply\n",
      "bathtub_0117.ply  bathtub_0130.ply  bathtub_0143.ply  bathtub_0156.ply\n",
      "bathtub_0118.ply  bathtub_0131.ply  bathtub_0144.ply\n",
      "bathtub_0119.ply  bathtub_0132.ply  bathtub_0145.ply\n"
     ]
    }
   ],
   "source": [
    "!ls /home/ubuntu/nndl-project/data/modelnet10/ply/bathtub/test"
   ]
  },
  {
   "cell_type": "markdown",
   "metadata": {},
   "source": [
    "# 2) Preprocessing the voxel grid based on orientation class\n",
    "\n",
    "## The `orientation_classes` table\n",
    "\n",
    "When we want to train our model on multiple orientation, we can do so by defining a discrete set of orientation each object can occur in; we call these _orientation classes_, and our dataset of possible voxel grids input will be $\\sum_k N_k O_k$ where $k$ runs on the number of object labels; we call these _classes_.\n",
    "\n",
    "To speed up training in this case, we want to pre-compute the voxel grids and store them in `.npy` numpy files. So first, let's create the subdirectory:"
   ]
  },
  {
   "cell_type": "code",
   "execution_count": 21,
   "metadata": {},
   "outputs": [],
   "source": [
    "!mkdir -p /home/ubuntu/nndl-project/data/modelnet10/npy/"
   ]
  },
  {
   "cell_type": "markdown",
   "metadata": {},
   "source": [
    "Now, to define the orientation classes, we will use a `pandas.DataFrame`; we can custom define it later to tune our model and load it in our script, but for now we will go with a simple 4 classes for each object, each corresponding to a rotation of $90°$ around the $z$ axis.\n",
    "\n",
    "We want the table to define each orientation class, link it with its associated class, a global index, and the $x,y,z$ rotation components in degrees."
   ]
  },
  {
   "cell_type": "code",
   "execution_count": 37,
   "metadata": {},
   "outputs": [
    {
     "data": {
      "text/html": [
       "<div>\n",
       "<style scoped>\n",
       "    .dataframe tbody tr th:only-of-type {\n",
       "        vertical-align: middle;\n",
       "    }\n",
       "\n",
       "    .dataframe tbody tr th {\n",
       "        vertical-align: top;\n",
       "    }\n",
       "\n",
       "    .dataframe thead th {\n",
       "        text-align: right;\n",
       "    }\n",
       "</style>\n",
       "<table border=\"1\" class=\"dataframe\">\n",
       "  <thead>\n",
       "    <tr style=\"text-align: right;\">\n",
       "      <th></th>\n",
       "      <th>label</th>\n",
       "      <th>class_id</th>\n",
       "    </tr>\n",
       "  </thead>\n",
       "  <tbody>\n",
       "    <tr>\n",
       "      <th>0</th>\n",
       "      <td>bathtub</td>\n",
       "      <td>0</td>\n",
       "    </tr>\n",
       "    <tr>\n",
       "      <th>1</th>\n",
       "      <td>bathtub</td>\n",
       "      <td>1</td>\n",
       "    </tr>\n",
       "    <tr>\n",
       "      <th>2</th>\n",
       "      <td>bathtub</td>\n",
       "      <td>2</td>\n",
       "    </tr>\n",
       "    <tr>\n",
       "      <th>3</th>\n",
       "      <td>bathtub</td>\n",
       "      <td>3</td>\n",
       "    </tr>\n",
       "    <tr>\n",
       "      <th>4</th>\n",
       "      <td>bed</td>\n",
       "      <td>0</td>\n",
       "    </tr>\n",
       "    <tr>\n",
       "      <th>5</th>\n",
       "      <td>bed</td>\n",
       "      <td>1</td>\n",
       "    </tr>\n",
       "    <tr>\n",
       "      <th>6</th>\n",
       "      <td>bed</td>\n",
       "      <td>2</td>\n",
       "    </tr>\n",
       "    <tr>\n",
       "      <th>7</th>\n",
       "      <td>bed</td>\n",
       "      <td>3</td>\n",
       "    </tr>\n",
       "    <tr>\n",
       "      <th>8</th>\n",
       "      <td>chair</td>\n",
       "      <td>0</td>\n",
       "    </tr>\n",
       "    <tr>\n",
       "      <th>9</th>\n",
       "      <td>chair</td>\n",
       "      <td>1</td>\n",
       "    </tr>\n",
       "  </tbody>\n",
       "</table>\n",
       "</div>"
      ],
      "text/plain": [
       "     label class_id\n",
       "0  bathtub        0\n",
       "1  bathtub        1\n",
       "2  bathtub        2\n",
       "3  bathtub        3\n",
       "4      bed        0\n",
       "5      bed        1\n",
       "6      bed        2\n",
       "7      bed        3\n",
       "8    chair        0\n",
       "9    chair        1"
      ]
     },
     "execution_count": 37,
     "metadata": {},
     "output_type": "execute_result"
    }
   ],
   "source": [
    "# grab the labels from the other folder\n",
    "labels = !ls /home/ubuntu/nndl-project/data/modelnet10/ply\n",
    "\n",
    "# 4 orientation classes per label\n",
    "class_id = [list(range(4)) for label in labels]\n",
    "\n",
    "# create dataframe\n",
    "orientation_classes = pd.DataFrame({\n",
    "    'label' : labels,\n",
    "    'class_id' : class_id\n",
    "}).explode('class_id',ignore_index=True)\n",
    "\n",
    "# now we have the index, the label, and the index of the orientation class relative to its parent class\n",
    "orientation_classes.head(10)"
   ]
  },
  {
   "cell_type": "code",
   "execution_count": 38,
   "metadata": {},
   "outputs": [
    {
     "data": {
      "text/html": [
       "<div>\n",
       "<style scoped>\n",
       "    .dataframe tbody tr th:only-of-type {\n",
       "        vertical-align: middle;\n",
       "    }\n",
       "\n",
       "    .dataframe tbody tr th {\n",
       "        vertical-align: top;\n",
       "    }\n",
       "\n",
       "    .dataframe thead th {\n",
       "        text-align: right;\n",
       "    }\n",
       "</style>\n",
       "<table border=\"1\" class=\"dataframe\">\n",
       "  <thead>\n",
       "    <tr style=\"text-align: right;\">\n",
       "      <th></th>\n",
       "      <th>label</th>\n",
       "      <th>class_id</th>\n",
       "      <th>rot_x</th>\n",
       "      <th>rot_y</th>\n",
       "      <th>rot_z</th>\n",
       "    </tr>\n",
       "  </thead>\n",
       "  <tbody>\n",
       "    <tr>\n",
       "      <th>0</th>\n",
       "      <td>bathtub</td>\n",
       "      <td>0</td>\n",
       "      <td>0</td>\n",
       "      <td>0</td>\n",
       "      <td>0</td>\n",
       "    </tr>\n",
       "    <tr>\n",
       "      <th>1</th>\n",
       "      <td>bathtub</td>\n",
       "      <td>1</td>\n",
       "      <td>0</td>\n",
       "      <td>0</td>\n",
       "      <td>90</td>\n",
       "    </tr>\n",
       "    <tr>\n",
       "      <th>2</th>\n",
       "      <td>bathtub</td>\n",
       "      <td>2</td>\n",
       "      <td>0</td>\n",
       "      <td>0</td>\n",
       "      <td>180</td>\n",
       "    </tr>\n",
       "    <tr>\n",
       "      <th>3</th>\n",
       "      <td>bathtub</td>\n",
       "      <td>3</td>\n",
       "      <td>0</td>\n",
       "      <td>0</td>\n",
       "      <td>270</td>\n",
       "    </tr>\n",
       "    <tr>\n",
       "      <th>4</th>\n",
       "      <td>bed</td>\n",
       "      <td>0</td>\n",
       "      <td>0</td>\n",
       "      <td>0</td>\n",
       "      <td>0</td>\n",
       "    </tr>\n",
       "    <tr>\n",
       "      <th>5</th>\n",
       "      <td>bed</td>\n",
       "      <td>1</td>\n",
       "      <td>0</td>\n",
       "      <td>0</td>\n",
       "      <td>90</td>\n",
       "    </tr>\n",
       "    <tr>\n",
       "      <th>6</th>\n",
       "      <td>bed</td>\n",
       "      <td>2</td>\n",
       "      <td>0</td>\n",
       "      <td>0</td>\n",
       "      <td>180</td>\n",
       "    </tr>\n",
       "    <tr>\n",
       "      <th>7</th>\n",
       "      <td>bed</td>\n",
       "      <td>3</td>\n",
       "      <td>0</td>\n",
       "      <td>0</td>\n",
       "      <td>270</td>\n",
       "    </tr>\n",
       "    <tr>\n",
       "      <th>8</th>\n",
       "      <td>chair</td>\n",
       "      <td>0</td>\n",
       "      <td>0</td>\n",
       "      <td>0</td>\n",
       "      <td>0</td>\n",
       "    </tr>\n",
       "    <tr>\n",
       "      <th>9</th>\n",
       "      <td>chair</td>\n",
       "      <td>1</td>\n",
       "      <td>0</td>\n",
       "      <td>0</td>\n",
       "      <td>90</td>\n",
       "    </tr>\n",
       "  </tbody>\n",
       "</table>\n",
       "</div>"
      ],
      "text/plain": [
       "     label class_id  rot_x  rot_y rot_z\n",
       "0  bathtub        0      0      0     0\n",
       "1  bathtub        1      0      0    90\n",
       "2  bathtub        2      0      0   180\n",
       "3  bathtub        3      0      0   270\n",
       "4      bed        0      0      0     0\n",
       "5      bed        1      0      0    90\n",
       "6      bed        2      0      0   180\n",
       "7      bed        3      0      0   270\n",
       "8    chair        0      0      0     0\n",
       "9    chair        1      0      0    90"
      ]
     },
     "execution_count": 38,
     "metadata": {},
     "output_type": "execute_result"
    }
   ],
   "source": [
    "# we use that to compute the rotation columns\n",
    "orientation_classes['rot_x']=0\n",
    "orientation_classes['rot_y']=0\n",
    "orientation_classes['rot_z']=90*orientation_classes['class_id']\n",
    "\n",
    "orientation_classes.head(10)"
   ]
  },
  {
   "cell_type": "code",
   "execution_count": 71,
   "metadata": {},
   "outputs": [],
   "source": [
    "# save this table, use it with script later\n",
    "orientation_classes.to_csv('/home/ubuntu/nndl-project/utils/orientation_classes.csv')"
   ]
  },
  {
   "cell_type": "markdown",
   "metadata": {},
   "source": [
    "## The voxelization\n",
    "\n",
    "Now, we walk through all the `.ply` files, and use the orientation classes table as a reference to generate voxel grids. The following code takes quite a while to complete the voxelization, so we will run the script overnight, but here is its working:"
   ]
  },
  {
   "cell_type": "code",
   "execution_count": 70,
   "metadata": {},
   "outputs": [],
   "source": [
    "# long, do not execute! will run the script separately overnight\n",
    "if False:\n",
    "\n",
    "    N=30\n",
    "\n",
    "    ply_root = '/home/ubuntu/nndl-project/data/modelnet10/ply/'\n",
    "\n",
    "\n",
    "    pbar = tqdm.tqdm(list(os.walk(ply_root)))\n",
    "\n",
    "    for root,subdirs,files in pbar:\n",
    "        for f in files:\n",
    "            if f[-4:] != '.ply' : continue\n",
    "            \n",
    "            label = root.split('/')[-2]\n",
    "            destination_root = root.replace(\"/ply/\", \"/npy/\")\n",
    "\n",
    "            for index,row in orientation_classes[orientation_classes['label']==label].iterrows():\n",
    "\n",
    "                pbar.set_description(\"Processing {}, orientation class {}\".format(f,row['class_id']))\n",
    "\n",
    "                # make dir for orientation class\n",
    "                destination_path = os.path.join(destination_root,str(row['class_id']))\n",
    "                if not os.path.exists(destination_path): os.makedirs(destination_path)\n",
    "\n",
    "                # grab rotations\n",
    "                rot_xyz = row[['rot_x','rot_y','rot_z']].values\n",
    "\n",
    "                # voxelize\n",
    "                array=load_voxel_grid(\n",
    "                    os.path.join(root,f), # path of the original ply mesh\n",
    "                    N,                    # resolution\n",
    "                    *rot_xyz,             # rotation applied before voxelization\n",
    "                    add_channel_dim=True)\n",
    "                \n",
    "                # save array\n",
    "                file_destination_path = os.path.join(destination_path,f.split('.')[0]+'.npy')\n",
    "                np.save(file_destination_path,array)\n",
    "            \n"
   ]
  },
  {
   "cell_type": "markdown",
   "metadata": {},
   "source": [
    "# 3) Generate metadata table\n",
    "\n",
    "_TO DO_"
   ]
  },
  {
   "cell_type": "code",
   "execution_count": null,
   "metadata": {},
   "outputs": [],
   "source": []
  },
  {
   "cell_type": "code",
   "execution_count": null,
   "metadata": {},
   "outputs": [],
   "source": []
  }
 ],
 "metadata": {
  "kernelspec": {
   "display_name": "Python 3.9.13 ('base': conda)",
   "language": "python",
   "name": "python3"
  },
  "language_info": {
   "codemirror_mode": {
    "name": "ipython",
    "version": 3
   },
   "file_extension": ".py",
   "mimetype": "text/x-python",
   "name": "python",
   "nbconvert_exporter": "python",
   "pygments_lexer": "ipython3",
   "version": "3.9.13"
  },
  "orig_nbformat": 4,
  "vscode": {
   "interpreter": {
    "hash": "caf1c2fcf97217de91eafa76b907d50f9ea378f5ffbee7f571142d119bb6a771"
   }
  }
 },
 "nbformat": 4,
 "nbformat_minor": 2
}
