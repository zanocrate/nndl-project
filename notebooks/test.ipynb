{
 "cells": [
  {
   "cell_type": "code",
   "execution_count": 51,
   "metadata": {},
   "outputs": [],
   "source": [
    "ROOT_DIR = '/home/ubuntu/nndl-project/data/'\n",
    "DATASET = 'modelnet10'\n",
    "\n",
    "import os\n",
    "os.chdir(ROOT_DIR)\n",
    "\n",
    "import pandas as pd\n",
    "import numpy as np\n",
    "\n",
    "metadata=pd.read_csv(os.path.join(ROOT_DIR,DATASET,'metadata.csv'),index_col=0).set_index(['file_format','split'])\n",
    "orientation_classes=pd.read_csv(os.path.join(ROOT_DIR,DATASET,'orientation_classes.csv'),index_col=0)\n",
    "metadata['orientation_class'] = metadata['orientation_class'].fillna(-1).astype(int)"
   ]
  },
  {
   "cell_type": "code",
   "execution_count": 67,
   "metadata": {},
   "outputs": [
    {
     "data": {
      "text/plain": [
       "label                                                             desk\n",
       "orientation_class                                                    3\n",
       "label_id                                                          0266\n",
       "path                 /home/ubuntu/nndl-project/data/modelnet10/npy/...\n",
       "Name: test, dtype: object"
      ]
     },
     "execution_count": 67,
     "metadata": {},
     "output_type": "execute_result"
    }
   ],
   "source": [
    "metadata.loc['npy'].loc['test'].iloc[9]"
   ]
  },
  {
   "cell_type": "code",
   "execution_count": 84,
   "metadata": {},
   "outputs": [
    {
     "name": "stderr",
     "output_type": "stream",
     "text": [
      "/tmp/ipykernel_69218/376864602.py:2: PerformanceWarning: indexing past lexsort depth may impact performance.\n",
      "  metadata.loc['npy','test'].iloc[0]\n"
     ]
    },
    {
     "data": {
      "text/plain": [
       "label                                                             desk\n",
       "orientation_class                                                    3\n",
       "label_id                                                          0231\n",
       "path                 /home/ubuntu/nndl-project/data/modelnet10/npy/...\n",
       "label_int                                                            0\n",
       "Name: (npy, test), dtype: object"
      ]
     },
     "execution_count": 84,
     "metadata": {},
     "output_type": "execute_result"
    }
   ],
   "source": [
    "metadata['label_int']=pd.factorize(metadata['label'])[0]\n",
    "metadata.loc['npy','test'].iloc[0]"
   ]
  },
  {
   "cell_type": "code",
   "execution_count": 100,
   "metadata": {},
   "outputs": [
    {
     "name": "stderr",
     "output_type": "stream",
     "text": [
      "/tmp/ipykernel_69218/2284847142.py:2: PerformanceWarning: indexing past lexsort depth may impact performance.\n",
      "  metadata.loc['npy','test'].iloc[0]\n"
     ]
    },
    {
     "data": {
      "text/plain": [
       "label                                                                desk\n",
       "orientation_class                                                       3\n",
       "label_id                                                             0231\n",
       "path                    /home/ubuntu/nndl-project/data/modelnet10/npy/...\n",
       "label_int                                                               0\n",
       "orientation_class_id                                                    0\n",
       "Name: (npy, test), dtype: object"
      ]
     },
     "execution_count": 100,
     "metadata": {},
     "output_type": "execute_result"
    }
   ],
   "source": [
    "metadata['orientation_class_id']=pd.factorize(metadata['label']+metadata['orientation_class'].astype(str))[0]\n",
    "metadata.loc['npy','test'].iloc[0]"
   ]
  },
  {
   "cell_type": "code",
   "execution_count": null,
   "metadata": {},
   "outputs": [],
   "source": []
  }
 ],
 "metadata": {
  "kernelspec": {
   "display_name": "Python 3.9.13 ('base': conda)",
   "language": "python",
   "name": "python3"
  },
  "language_info": {
   "codemirror_mode": {
    "name": "ipython",
    "version": 3
   },
   "file_extension": ".py",
   "mimetype": "text/x-python",
   "name": "python",
   "nbconvert_exporter": "python",
   "pygments_lexer": "ipython3",
   "version": "3.9.13"
  },
  "orig_nbformat": 4,
  "vscode": {
   "interpreter": {
    "hash": "caf1c2fcf97217de91eafa76b907d50f9ea378f5ffbee7f571142d119bb6a771"
   }
  }
 },
 "nbformat": 4,
 "nbformat_minor": 2
}
