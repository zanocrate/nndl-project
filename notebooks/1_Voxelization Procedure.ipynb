{
 "cells": [
  {
   "cell_type": "markdown",
   "id": "70286a23",
   "metadata": {},
   "source": [
    "# Voxelization Procedure\n",
    "\n",
    "In this notebook I will illustrate the procedure for voxelization of the mesh files that will be the preprocessing fo the data for our VoxelNet model.\n",
    "\n",
    "The _ModelNet_ dataset comprises a number of samples for 10 different labeled objects, that are originally provided in `.off` files; these files are a collection of edges and faces. \n",
    "\n",
    "To process these files, we will be using <a href=https://docs.pyvista.org/>PyVista</a>, which is a high-level API that interfaces with <a href=https://vtk.org/>VTK</a>. Unfortunately, the `.off` protocol is not supported by VTK so we first had to convert the dataset to `.ply` format, which is still a list of edges and faces.\n",
    "\n",
    "***\n",
    "\n",
    "We begin by import `pyvista` and setting the rendering backend to `ipygany`; this backend streams mesh data directly to the client and avoid server-side rendering which on our VM won't work. "
   ]
  },
  {
   "cell_type": "code",
   "execution_count": 1,
   "id": "2bb75dbf",
   "metadata": {},
   "outputs": [
    {
     "name": "stdout",
     "output_type": "stream",
     "text": [
      "Local files:\n",
      "['desk_0001.ply', 'monitor_0001.ply'] \n",
      "\n",
      "\n",
      "desk_0001.ply \n",
      "\n"
     ]
    },
    {
     "data": {
      "text/html": [
       "\n",
       "<table>\n",
       "<tr><th>PolyData</th><th>Information</th></tr>\n",
       "<tr><td>N Cells</td><td>8748</td></tr>\n",
       "<tr><td>N Points</td><td>12036</td></tr>\n",
       "<tr><td>N Strips</td><td>0</td></tr>\n",
       "<tr><td>X Bounds</td><td>-1.325e+01, 1.325e+01</td></tr>\n",
       "<tr><td>Y Bounds</td><td>-4.625e+01, 4.625e+01</td></tr>\n",
       "<tr><td>Z Bounds</td><td>-1.400e+01, 1.400e+01</td></tr>\n",
       "<tr><td>N Arrays</td><td>0</td></tr>\n",
       "</table>\n",
       "\n"
      ],
      "text/plain": [
       "PolyData (0x7f435836d640)\n",
       "  N Cells:\t8748\n",
       "  N Points:\t12036\n",
       "  N Strips:\t0\n",
       "  X Bounds:\t-1.325e+01, 1.325e+01\n",
       "  Y Bounds:\t-4.625e+01, 4.625e+01\n",
       "  Z Bounds:\t-1.400e+01, 1.400e+01\n",
       "  N Arrays:\t0"
      ]
     },
     "execution_count": 1,
     "metadata": {},
     "output_type": "execute_result"
    }
   ],
   "source": [
    "import pyvista as pv\n",
    "import numpy as np\n",
    "\n",
    "# necessary: streams mesh directly to client and rendering happens there\n",
    "pv.set_jupyter_backend('ipygany')\n",
    "\n",
    "files = !ls *.ply\n",
    "print('Local files:')\n",
    "print(files,'\\n\\n')\n",
    "\n",
    "# load mesh\n",
    "file = files[0]\n",
    "print(file,'\\n')\n",
    "mesh=pv.read(file)\n",
    "\n",
    "mesh"
   ]
  },
  {
   "cell_type": "markdown",
   "id": "a25ff397",
   "metadata": {},
   "source": [
    "Now, the _ModelNet_ dataset is already manually aligned, so we will rotate the mesh around the origin by a random angle. Then, we want to translate the mesh so that its outline fits perfectly into the region $[-1,1]^3$."
   ]
  },
  {
   "cell_type": "code",
   "execution_count": 2,
   "id": "49a3abb4",
   "metadata": {},
   "outputs": [
    {
     "data": {
      "application/vnd.jupyter.widget-view+json": {
       "model_id": "abb1c3459f034710911f68caa0709d1b",
       "version_major": 2,
       "version_minor": 0
      },
      "text/plain": [
       "Scene(background_color='#4c4c4c', camera={'position': [1.7667358235657487, 1.7667358235657487, 1.7667358235657…"
      ]
     },
     "metadata": {},
     "output_type": "display_data"
    }
   ],
   "source": [
    "# rotate it randomly\n",
    "x_deg,y_deg,z_deg=360*np.random.rand(3)\n",
    "\n",
    "#pivot=mesh.outline().center_of_mass() is this needed?\n",
    "pivot = np.zeros(3)\n",
    "\n",
    "mesh.rotate_x(x_deg,pivot,inplace=True)\n",
    "mesh.rotate_y(y_deg,pivot,inplace=True)\n",
    "mesh.rotate_z(z_deg,pivot,inplace=True)\n",
    "\n",
    "pivot=mesh.outline().center_of_mass()\n",
    "mesh.translate(-pivot,inplace=True)\n",
    "\n",
    "# scale so that it fits into [-1,1]^3 region\n",
    "scaling_factor = 1/max(abs(np.array(mesh.bounds)))\n",
    "mesh.scale(scaling_factor,inplace=True)\n",
    "\n",
    "p = pv.Plotter()\n",
    "p.add_mesh(mesh)\n",
    "p.view_isometric()\n",
    "p.show()"
   ]
  },
  {
   "cell_type": "markdown",
   "id": "0c3089d4",
   "metadata": {},
   "source": [
    "It is time to define the grid: we will be creating a $N\\times N\\times N$ grid that spans the $[-1,1]^3$ interval."
   ]
  },
  {
   "cell_type": "code",
   "execution_count": 3,
   "id": "368c6b36",
   "metadata": {},
   "outputs": [
    {
     "data": {
      "text/html": [
       "\n",
       "<table>\n",
       "<tr><th>UniformGrid</th><th>Information</th></tr>\n",
       "<tr><td>N Cells</td><td>27000</td></tr>\n",
       "<tr><td>N Points</td><td>29791</td></tr>\n",
       "<tr><td>X Bounds</td><td>-1.000e+00, 1.000e+00</td></tr>\n",
       "<tr><td>Y Bounds</td><td>-1.000e+00, 1.000e+00</td></tr>\n",
       "<tr><td>Z Bounds</td><td>-1.000e+00, 1.000e+00</td></tr>\n",
       "<tr><td>Dimensions</td><td>31, 31, 31</td></tr>\n",
       "<tr><td>Spacing</td><td>6.667e-02, 6.667e-02, 6.667e-02</td></tr>\n",
       "<tr><td>N Arrays</td><td>0</td></tr>\n",
       "</table>\n",
       "\n"
      ],
      "text/plain": [
       "UniformGrid (0x7f435aefde80)\n",
       "  N Cells:\t27000\n",
       "  N Points:\t29791\n",
       "  X Bounds:\t-1.000e+00, 1.000e+00\n",
       "  Y Bounds:\t-1.000e+00, 1.000e+00\n",
       "  Z Bounds:\t-1.000e+00, 1.000e+00\n",
       "  Dimensions:\t31, 31, 31\n",
       "  Spacing:\t6.667e-02, 6.667e-02, 6.667e-02\n",
       "  N Arrays:\t0"
      ]
     },
     "execution_count": 3,
     "metadata": {},
     "output_type": "execute_result"
    }
   ],
   "source": [
    "# the grid\n",
    "N_linear_cells=30\n",
    "resolution = N_linear_cells*np.ones(3,dtype=int)\n",
    "grid = pv.UniformGrid()\n",
    "grid.dimensions = resolution+1 # the grid points are the edges of the cells: add 1 for last edge\n",
    "grid.spacing = 2/resolution # spacing of the grid\n",
    "grid.origin = (-1,-1,-1) # point from which the grid grows\n",
    "grid"
   ]
  },
  {
   "cell_type": "markdown",
   "id": "f1eaf310",
   "metadata": {},
   "source": [
    "The cells of this grid will be the voxels, that will have cell value `1` if the mesh is occupying the voxel, and `0` otherwise. We will call this the `occupancy` field. In order to evaluate whether the surface is occupying the voxel, we will need to calculate the distance from the center of each cell to the surface of the mesh. Note that this operation is parallel-processing friendly and is much faster on a GPU."
   ]
  },
  {
   "cell_type": "code",
   "execution_count": 4,
   "id": "4f666a4e",
   "metadata": {},
   "outputs": [
    {
     "data": {
      "text/html": [
       "<table><tr><th>Header</th><th>Data Arrays</th></tr><tr><td>\n",
       "<table>\n",
       "<tr><th>PolyData</th><th>Information</th></tr>\n",
       "<tr><td>N Cells</td><td>27000</td></tr>\n",
       "<tr><td>N Points</td><td>27000</td></tr>\n",
       "<tr><td>N Strips</td><td>0</td></tr>\n",
       "<tr><td>X Bounds</td><td>-9.667e-01, 9.667e-01</td></tr>\n",
       "<tr><td>Y Bounds</td><td>-9.667e-01, 9.667e-01</td></tr>\n",
       "<tr><td>Z Bounds</td><td>-9.667e-01, 9.667e-01</td></tr>\n",
       "<tr><td>N Arrays</td><td>1</td></tr>\n",
       "</table>\n",
       "\n",
       "</td><td>\n",
       "<table>\n",
       "<tr><th>Name</th><th>Field</th><th>Type</th><th>N Comp</th><th>Min</th><th>Max</th></tr>\n",
       "<tr><td><b>implicit_distance</b></td><td>Points</td><td>float64</td><td>1</td><td>-1.141e+00</td><td>1.221e+00</td></tr>\n",
       "</table>\n",
       "\n",
       "</td></tr> </table>"
      ],
      "text/plain": [
       "PolyData (0x7f4354a1abe0)\n",
       "  N Cells:\t27000\n",
       "  N Points:\t27000\n",
       "  N Strips:\t0\n",
       "  X Bounds:\t-9.667e-01, 9.667e-01\n",
       "  Y Bounds:\t-9.667e-01, 9.667e-01\n",
       "  Z Bounds:\t-9.667e-01, 9.667e-01\n",
       "  N Arrays:\t1"
      ]
     },
     "execution_count": 4,
     "metadata": {},
     "output_type": "execute_result"
    }
   ],
   "source": [
    "# now we grab the cell centers\n",
    "points = grid.cell_centers()\n",
    "\n",
    "# and compute the distance form the mesh\n",
    "points.compute_implicit_distance(mesh,inplace=True)"
   ]
  },
  {
   "cell_type": "markdown",
   "id": "de187819",
   "metadata": {},
   "source": [
    "Now, in order to evaluate which voxels have the surface passing through them, we set a thresholding value for the distance between the center of the cells and the surface: for example, when $d<\\sqrt{3}l$, where $l$ is the voxel linear size, the surface is intersecting the voxel, so we can consider the voxel occupied.\n",
    "\n",
    "Now, the `grid` object has a data array associated with the cells, and we can export the field as a `np.array` to serve as an input for our model."
   ]
  },
  {
   "cell_type": "code",
   "execution_count": 5,
   "id": "1acc498c",
   "metadata": {},
   "outputs": [
    {
     "data": {
      "text/html": [
       "<table><tr><th>Header</th><th>Data Arrays</th></tr><tr><td>\n",
       "<table>\n",
       "<tr><th>UniformGrid</th><th>Information</th></tr>\n",
       "<tr><td>N Cells</td><td>27000</td></tr>\n",
       "<tr><td>N Points</td><td>29791</td></tr>\n",
       "<tr><td>X Bounds</td><td>-1.000e+00, 1.000e+00</td></tr>\n",
       "<tr><td>Y Bounds</td><td>-1.000e+00, 1.000e+00</td></tr>\n",
       "<tr><td>Z Bounds</td><td>-1.000e+00, 1.000e+00</td></tr>\n",
       "<tr><td>Dimensions</td><td>31, 31, 31</td></tr>\n",
       "<tr><td>Spacing</td><td>6.667e-02, 6.667e-02, 6.667e-02</td></tr>\n",
       "<tr><td>N Arrays</td><td>1</td></tr>\n",
       "</table>\n",
       "\n",
       "</td><td>\n",
       "<table>\n",
       "<tr><th>Name</th><th>Field</th><th>Type</th><th>N Comp</th><th>Min</th><th>Max</th></tr>\n",
       "<tr><td><b>occupancy</b></td><td>Cells</td><td>int8</td><td>1</td><td>0.000e+00</td><td>1.000e+00</td></tr>\n",
       "</table>\n",
       "\n",
       "</td></tr> </table>"
      ],
      "text/plain": [
       "UniformGrid (0x7f435aefde80)\n",
       "  N Cells:\t27000\n",
       "  N Points:\t29791\n",
       "  X Bounds:\t-1.000e+00, 1.000e+00\n",
       "  Y Bounds:\t-1.000e+00, 1.000e+00\n",
       "  Z Bounds:\t-1.000e+00, 1.000e+00\n",
       "  Dimensions:\t31, 31, 31\n",
       "  Spacing:\t6.667e-02, 6.667e-02, 6.667e-02\n",
       "  N Arrays:\t1"
      ]
     },
     "execution_count": 5,
     "metadata": {},
     "output_type": "execute_result"
    }
   ],
   "source": [
    "l = grid.spacing[0]\n",
    "threshold = 3**(0.5)*l\n",
    "mask = abs(points.point_data['implicit_distance']) < threshold\n",
    "\n",
    "grid.cell_data['occupancy']=np.zeros(grid.n_cells,dtype=np.int8)\n",
    "grid.cell_data['occupancy'][mask] = 1\n",
    "\n",
    "\n",
    "grid"
   ]
  },
  {
   "cell_type": "code",
   "execution_count": 6,
   "id": "1699d3a8",
   "metadata": {},
   "outputs": [
    {
     "data": {
      "application/vnd.jupyter.widget-view+json": {
       "model_id": "db881807115942e7a7ab5a4fa5cc4991",
       "version_major": 2,
       "version_minor": 0
      },
      "text/plain": [
       "Scene(background_color='#4c4c4c', camera={'position': [1.4418437437145084, 1.4418437437145084, 2.4717321320820…"
      ]
     },
     "metadata": {},
     "output_type": "display_data"
    }
   ],
   "source": [
    "#check to see if export works\n",
    "array=grid.cell_data['occupancy'].reshape(resolution)\n",
    "grid.cell_data['occupancy'] = array\n",
    "\n",
    "pl = pv.Plotter()\n",
    "pl.add_mesh(grid.threshold(0.5),color='red')\n",
    "pl.view_vector([0.7,0.7,1.2])\n",
    "\n",
    "pl.show()"
   ]
  },
  {
   "cell_type": "code",
   "execution_count": null,
   "id": "6a231c4b",
   "metadata": {},
   "outputs": [],
   "source": []
  }
 ],
 "metadata": {
  "kernelspec": {
   "display_name": "Python 3.9.13 ('base': conda)",
   "language": "python",
   "name": "python3"
  },
  "language_info": {
   "codemirror_mode": {
    "name": "ipython",
    "version": 3
   },
   "file_extension": ".py",
   "mimetype": "text/x-python",
   "name": "python",
   "nbconvert_exporter": "python",
   "pygments_lexer": "ipython3",
   "version": "3.9.13"
  },
  "vscode": {
   "interpreter": {
    "hash": "caf1c2fcf97217de91eafa76b907d50f9ea378f5ffbee7f571142d119bb6a771"
   }
  }
 },
 "nbformat": 4,
 "nbformat_minor": 5
}
