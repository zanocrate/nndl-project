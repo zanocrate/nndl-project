{
 "cells": [
  {
   "cell_type": "markdown",
   "id": "e36ea943",
   "metadata": {},
   "source": [
    "# The `DataSet` class\n",
    "\n",
    "PyTorch provides many tools to separate the data processing and loading part. The base concept is the `DataSet` class, which is designed to work with the `DataLoader` class, that takes care of shuffling data and batching it during epochs.\n",
    "\n",
    "The whole [documentation](https://pytorch.org/tutorials/beginner/data_loading_tutorial.html) is more detailed, but basically the `DataLoader` expects the dataset be a subclass of `torch.utils.data.Dataset` and to implement a few basic methods to retrive the sample with index `idx`.\n",
    "\n",
    "I implemented it in the `./src/dataset.py` module; let's import it and see it in action."
   ]
  },
  {
   "cell_type": "code",
   "execution_count": 2,
   "id": "167ae3bd",
   "metadata": {},
   "outputs": [],
   "source": [
    "import os\n",
    "\n",
    "os.chdir('/home/ubuntu/nndl-project/')\n",
    "\n",
    "from src.dataset import * # import ModelNetDataset class\n",
    "from torch.utils.data import DataLoader\n",
    "import pandas as pd\n",
    "import matplotlib.pyplot as plt\n",
    "\n",
    "metadata_path = '/home/ubuntu/nndl-project/data/modelnet10/metadata.parquet'\n",
    "\n",
    "dataset=ModelNetDataset(metadata_path,file_format='npy')\n",
    "loader=DataLoader(dataset,shuffle=True,batch_size=12)"
   ]
  },
  {
   "cell_type": "markdown",
   "id": "466a34e4",
   "metadata": {},
   "source": [
    "We just created both the `dataset` and the `loader` objects; the `ModelNetDataset` class expects the path to a metadata `parquet` file containing the fields we created in the previous notebook. \n",
    "The loader is an iterable that provides batches until it sweeps through all the dataset; each sample from the dataset is:\n",
    "\n",
    "- if working with `npy` a tuple $(V_i,o_i,c_i)$ where $V$ is a $(1,N,N,N)$ voxel grid (first dimension is channel), $o$ is the one-hot encoded orientation class and $c$ is the one-hot encoded class\n",
    "\n",
    "- if working with `ply` a tuple $(V_i,\\mathbf{r}_i,c_i)$ where now $\\mathbf{r}_i = (r_x,r_y,r_z)$ is a vector with the rotation components along the three axis in degrees. This method voxelizes the mesh on the fly, so it's much slower."
   ]
  },
  {
   "cell_type": "code",
   "execution_count": 8,
   "id": "1474d42b",
   "metadata": {},
   "outputs": [
    {
     "name": "stdout",
     "output_type": "stream",
     "text": [
      "torch.Size([12, 1, 30, 30, 30])\n",
      "torch.Size([12, 40])\n",
      "torch.Size([12, 10])\n"
     ]
    }
   ],
   "source": [
    "v_batch,o_batch,c_batch=next(iter(loader))\n",
    "\n",
    "print(v_batch.shape)\n",
    "print(o_batch.shape)\n",
    "print(c_batch.shape)"
   ]
  },
  {
   "cell_type": "code",
   "execution_count": 10,
   "id": "b6447807",
   "metadata": {},
   "outputs": [
    {
     "data": {
      "text/plain": [
       "tensor([0, 0, 0, 0, 0, 0, 0, 0, 0, 0, 0, 0, 0, 0, 0, 0, 0, 0, 0, 0, 0, 0, 0, 0,\n",
       "        0, 0, 0, 0, 0, 0, 0, 0, 0, 0, 0, 0, 1, 0, 0, 0])"
      ]
     },
     "execution_count": 10,
     "metadata": {},
     "output_type": "execute_result"
    }
   ],
   "source": [
    "# print first sample\n",
    "o_batch[0]"
   ]
  }
 ],
 "metadata": {
  "kernelspec": {
   "display_name": "Python 3 (ipykernel)",
   "language": "python",
   "name": "python3"
  },
  "language_info": {
   "codemirror_mode": {
    "name": "ipython",
    "version": 3
   },
   "file_extension": ".py",
   "mimetype": "text/x-python",
   "name": "python",
   "nbconvert_exporter": "python",
   "pygments_lexer": "ipython3",
   "version": "3.9.13"
  },
  "vscode": {
   "interpreter": {
    "hash": "caf1c2fcf97217de91eafa76b907d50f9ea378f5ffbee7f571142d119bb6a771"
   }
  }
 },
 "nbformat": 4,
 "nbformat_minor": 5
}
