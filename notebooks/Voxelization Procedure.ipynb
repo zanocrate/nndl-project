{
 "cells": [
  {
   "cell_type": "code",
   "execution_count": null,
   "id": "2bb75dbf",
   "metadata": {},
   "outputs": [],
   "source": [
    "import pyvista as pv\n",
    "import numpy as np\n",
    "pv.set_jupyter_backend('panel')\n",
    "\n",
    "files = !ls *.ply\n",
    "print('Local files:')\n",
    "print(files,'\\n\\n')\n",
    "\n",
    "# load mesh\n",
    "file = files[0]\n",
    "print(file,'\\n')\n",
    "mesh=pv.read(file)\n",
    "\n",
    "# rotate it randomly\n",
    "x_deg,y_deg,z_deg=360*np.random.rand(3)\n",
    "\n",
    "#pivot=mesh.outline().center_of_mass() is this needed?\n",
    "pivot = np.zeros(3)\n",
    "\n",
    "mesh.rotate_x(x_deg,pivot,inplace=True)\n",
    "mesh.rotate_y(y_deg,pivot,inplace=True)\n",
    "mesh.rotate_z(z_deg,pivot,inplace=True)\n",
    "\n",
    "pivot=mesh.outline().center_of_mass()\n",
    "mesh.translate(-pivot,inplace=True)\n",
    "\n",
    "\n",
    "\n",
    "\n",
    "# scale so that it fits into [-1,1]^3 region\n",
    "scaling_factor = 1/max(abs(np.array(mesh.bounds)))\n",
    "mesh.scale(scaling_factor,inplace=True)\n",
    "\n",
    "# print data\n",
    "print(mesh)\n",
    "\n",
    "p = pv.Plotter()\n",
    "p.add_mesh(mesh)\n",
    "p.link_views()\n",
    "p.view_isometric()\n",
    "p.show()"
   ]
  },
  {
   "cell_type": "code",
   "execution_count": null,
   "id": "368c6b36",
   "metadata": {},
   "outputs": [],
   "source": [
    "# the grid\n",
    "N_linear_cells=50\n",
    "resolution = N_linear_cells*np.ones(3,dtype=int)\n",
    "grid = pv.UniformGrid()\n",
    "grid.dimensions = resolution+1 # the grid points are the edges of the cells: add 1 for last edge\n",
    "grid.spacing = 2/resolution # spacing of the grid\n",
    "grid.origin = (-1,-1,-1) # origin of the grid is set so that the cube spans the [-1,1]^3 interval\n",
    "grid.cell_data['occupancy'] = np.zeros(grid.n_cells,dtype=np.int8) # initialize occupancy to zero\n",
    "print(grid)\n",
    "\n",
    "pl = pv.Plotter()\n",
    "pl.add_mesh(mesh,label='mesh')\n",
    "pl.add_mesh(grid,show_edges=True,style='wireframe',color='yellow',label='grid')\n",
    "pl.add_legend()\n",
    "pl.show()"
   ]
  },
  {
   "cell_type": "code",
   "execution_count": null,
   "id": "4f666a4e",
   "metadata": {},
   "outputs": [],
   "source": [
    "# now we grab the cell centers\n",
    "points = grid.cell_centers()\n",
    "\n",
    "# and compute the distance form the mesh\n",
    "points.compute_implicit_distance(mesh,inplace=True)"
   ]
  },
  {
   "cell_type": "code",
   "execution_count": null,
   "id": "1acc498c",
   "metadata": {},
   "outputs": [],
   "source": [
    "# now threshold on value: what is the correct value?\n",
    "# if the \"activate\" the voxel based on whether the surface intersects it in any point,\n",
    "# then the threshold is sqrt(3)*l/2, where l is the size of the voxel\n",
    "# if we activate the voxel on whether\n",
    "# also check https://en.wikipedia.org/wiki/Line_drawing_algorithm for ideas\n",
    "\n",
    "l = grid.spacing[0]\n",
    "threshold = 3**(0.5)*l\n",
    "mask = abs(points.point_data['implicit_distance']) < threshold\n",
    "\n",
    "\n",
    "grid.cell_data['occupancy'][mask] = 1\n",
    "\n",
    "\n",
    "grid"
   ]
  },
  {
   "cell_type": "code",
   "execution_count": null,
   "id": "1699d3a8",
   "metadata": {},
   "outputs": [],
   "source": [
    "#check to see if export works\n",
    "array=grid.cell_data['occupancy'].reshape(resolution)\n",
    "grid.cell_data['occupancy'] = array\n",
    "\n",
    "pl = pv.Plotter(shape=(1,2))\n",
    "pl.link_views()\n",
    "pl.add_mesh(mesh)\n",
    "pl.subplot(0,1)\n",
    "pl.add_mesh(grid.threshold(0.5),color='red')\n",
    "pl.view_vector([0.7,0.7,1.2])\n",
    "\n",
    "pl.show()"
   ]
  },
  {
   "cell_type": "code",
   "execution_count": null,
   "id": "fdb6a0d3",
   "metadata": {},
   "outputs": [],
   "source": [
    "np.save(file.split('.')[0]+'_voxel',array)"
   ]
  },
  {
   "cell_type": "code",
   "execution_count": null,
   "id": "c257e1d1",
   "metadata": {},
   "outputs": [],
   "source": [
    "!ls"
   ]
  },
  {
   "cell_type": "code",
   "execution_count": null,
   "id": "ace38370",
   "metadata": {},
   "outputs": [],
   "source": []
  }
 ],
 "metadata": {
  "kernelspec": {
   "display_name": "Python 3 (ipykernel)",
   "language": "python",
   "name": "python3"
  },
  "language_info": {
   "codemirror_mode": {
    "name": "ipython",
    "version": 3
   },
   "file_extension": ".py",
   "mimetype": "text/x-python",
   "name": "python",
   "nbconvert_exporter": "python",
   "pygments_lexer": "ipython3",
   "version": "3.8.2"
  }
 },
 "nbformat": 4,
 "nbformat_minor": 5
}
