{
 "cells": [
  {
   "cell_type": "code",
   "execution_count": 1,
   "metadata": {},
   "outputs": [],
   "source": [
    "import os \n",
    "os.chdir('/home/ubuntu/nndl-project/')\n",
    "\n",
    "from src.dataset import * # imports ModelNetDataset\n",
    "from src.models.voxnet import VoxNet\n",
    "from torch.utils.data import DataLoader\n",
    "\n",
    "metadata_path = '/home/ubuntu/nndl-project/data/modelnet10/metadata.csv'\n",
    "orientation_classes_path = '/home/ubuntu/nndl-project/data/modelnet10/orientation_classes.csv'\n",
    "\n",
    "dataset = ModelNetDataset(metadata_path=metadata_path,N=30,split='train',orientation_classes_path=orientation_classes_path)\n",
    "loader = DataLoader(dataset,2,shuffle=True,num_workers=2)"
   ]
  },
  {
   "cell_type": "code",
   "execution_count": 2,
   "metadata": {},
   "outputs": [],
   "source": [
    "vox_grid_batch, orientation_batch, label_batch = next(iter(loader))"
   ]
  },
  {
   "cell_type": "code",
   "execution_count": 3,
   "metadata": {},
   "outputs": [],
   "source": [
    "model = VoxNet()\n",
    "\n",
    "out_class,out_pose=model(vox_grid_batch.float())"
   ]
  },
  {
   "cell_type": "code",
   "execution_count": 22,
   "metadata": {},
   "outputs": [
    {
     "data": {
      "text/plain": [
       "tensor(2.2432, grad_fn=<DivBackward1>)"
      ]
     },
     "execution_count": 22,
     "metadata": {},
     "output_type": "execute_result"
    }
   ],
   "source": [
    "from torch.nn import CrossEntropyLoss\n",
    "from torch.nn.functional import one_hot\n",
    "\n",
    "criterion=CrossEntropyLoss()\n",
    "\n",
    "o_onehot=one_hot(orientation_batch,num_classes=40)\n",
    "l_onehot=one_hot(label_batch,num_classes=10)\n",
    "\n",
    "l_p,o_p=model(vox_grid_batch.float())\n",
    "criterion(l_p,l_onehot.float())\n",
    "# l_onehot.float()"
   ]
  },
  {
   "cell_type": "code",
   "execution_count": null,
   "metadata": {},
   "outputs": [],
   "source": []
  }
 ],
 "metadata": {
  "interpreter": {
   "hash": "caf1c2fcf97217de91eafa76b907d50f9ea378f5ffbee7f571142d119bb6a771"
  },
  "kernelspec": {
   "display_name": "Python 3 (ipykernel)",
   "language": "python",
   "name": "python3"
  },
  "language_info": {
   "codemirror_mode": {
    "name": "ipython",
    "version": 3
   },
   "file_extension": ".py",
   "mimetype": "text/x-python",
   "name": "python",
   "nbconvert_exporter": "python",
   "pygments_lexer": "ipython3",
   "version": "3.9.13"
  }
 },
 "nbformat": 4,
 "nbformat_minor": 2
}
