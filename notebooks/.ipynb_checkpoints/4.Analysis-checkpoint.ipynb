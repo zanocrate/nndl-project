{
 "cells": [
  {
   "cell_type": "code",
   "execution_count": 10,
   "id": "c8dc5bc2",
   "metadata": {},
   "outputs": [],
   "source": [
    "import sys\n",
    "sys.path.append('/home/ubuntu/nndlproject/src/models')\n",
    "from voxnet import VoxNet\n",
    "import os \n",
    "import numpy as np \n",
    "import torch.nn as nn\n",
    "import torch.nn.functional as F\n",
    "import torch"
   ]
  },
  {
   "cell_type": "code",
   "execution_count": 14,
   "id": "9fe33cfa",
   "metadata": {},
   "outputs": [
    {
     "data": {
      "text/plain": [
       "VoxNet(\n",
       "  (conv1a): Conv3d(1, 32, kernel_size=(3, 3, 3), stride=(2, 2, 2), padding=valid)\n",
       "  (BN1a): BatchNorm3d(32, eps=1e-05, momentum=0.1, affine=True, track_running_stats=True)\n",
       "  (relu1a): ReLU()\n",
       "  (dropout1a): Dropout3d(p=0.2, inplace=False)\n",
       "  (conv2a): Conv3d(32, 64, kernel_size=(3, 3, 3), stride=(1, 1, 1), padding=valid)\n",
       "  (BN2a): BatchNorm3d(64, eps=1e-05, momentum=0.1, affine=True, track_running_stats=True)\n",
       "  (relu2a): ReLU()\n",
       "  (dropout2a): Dropout3d(p=0.3, inplace=False)\n",
       "  (conv3a): Conv3d(64, 128, kernel_size=(3, 3, 3), stride=(1, 1, 1), padding=valid)\n",
       "  (BN3a): BatchNorm3d(128, eps=1e-05, momentum=0.1, affine=True, track_running_stats=True)\n",
       "  (relu3a): ReLU()\n",
       "  (dropout3a): Dropout3d(p=0.4, inplace=False)\n",
       "  (conv4a): Conv3d(128, 256, kernel_size=(3, 3, 3), stride=(1, 1, 1))\n",
       "  (BN4a): BatchNorm3d(256, eps=1e-05, momentum=0.1, affine=True, track_running_stats=True)\n",
       "  (relu4a): ReLU()\n",
       "  (pooling4a): MaxPool3d(kernel_size=2, stride=2, padding=0, dilation=1, ceil_mode=False)\n",
       "  (dropout4a): Dropout3d(p=0.6, inplace=False)\n",
       "  (fc1b): Linear(in_features=16384, out_features=128, bias=True)\n",
       "  (relu1b): ReLU()\n",
       "  (dropout1b): Dropout1d(p=0.4, inplace=False)\n",
       "  (out_class): Linear(in_features=128, out_features=10, bias=True)\n",
       "  (out_pose): Linear(in_features=128, out_features=40, bias=True)\n",
       ")"
      ]
     },
     "execution_count": 14,
     "metadata": {},
     "output_type": "execute_result"
    }
   ],
   "source": [
    "model = VoxNet()\n",
    "model.load_state_dict(torch.load('/home/ubuntu/nndlproject/trained_models/model_20230131_155727_9'))\n",
    "model.eval() #turns off training mode: batch normalization and droupout \n",
    "#model(inference_batch)"
   ]
  },
  {
   "cell_type": "code",
   "execution_count": null,
   "id": "a66a9694",
   "metadata": {},
   "outputs": [],
   "source": [
    "#import a cad model \n",
    "#preprocess: voxelize\n",
    "#use on model"
   ]
  }
 ],
 "metadata": {
  "kernelspec": {
   "display_name": "Python 3 (ipykernel)",
   "language": "python",
   "name": "python3"
  },
  "language_info": {
   "codemirror_mode": {
    "name": "ipython",
    "version": 3
   },
   "file_extension": ".py",
   "mimetype": "text/x-python",
   "name": "python",
   "nbconvert_exporter": "python",
   "pygments_lexer": "ipython3",
   "version": "3.9.13"
  }
 },
 "nbformat": 4,
 "nbformat_minor": 5
}
