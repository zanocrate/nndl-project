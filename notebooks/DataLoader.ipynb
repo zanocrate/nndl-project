{
 "cells": [
  {
   "cell_type": "code",
   "execution_count": 5,
   "id": "167ae3bd",
   "metadata": {},
   "outputs": [
    {
     "data": {
      "text/html": [
       "<div>\n",
       "<style scoped>\n",
       "    .dataframe tbody tr th:only-of-type {\n",
       "        vertical-align: middle;\n",
       "    }\n",
       "\n",
       "    .dataframe tbody tr th {\n",
       "        vertical-align: top;\n",
       "    }\n",
       "\n",
       "    .dataframe thead th {\n",
       "        text-align: right;\n",
       "    }\n",
       "</style>\n",
       "<table border=\"1\" class=\"dataframe\">\n",
       "  <thead>\n",
       "    <tr style=\"text-align: right;\">\n",
       "      <th></th>\n",
       "      <th>filename</th>\n",
       "      <th>split</th>\n",
       "      <th>path</th>\n",
       "      <th>label</th>\n",
       "      <th>label_str</th>\n",
       "    </tr>\n",
       "  </thead>\n",
       "  <tbody>\n",
       "    <tr>\n",
       "      <th>0</th>\n",
       "      <td>desk_0244.ply</td>\n",
       "      <td>test</td>\n",
       "      <td>/home/ubuntu/nndlproject/data/modelnet10/ply/d...</td>\n",
       "      <td>0</td>\n",
       "      <td>desk</td>\n",
       "    </tr>\n",
       "    <tr>\n",
       "      <th>1</th>\n",
       "      <td>desk_0208.ply</td>\n",
       "      <td>test</td>\n",
       "      <td>/home/ubuntu/nndlproject/data/modelnet10/ply/d...</td>\n",
       "      <td>0</td>\n",
       "      <td>desk</td>\n",
       "    </tr>\n",
       "    <tr>\n",
       "      <th>2</th>\n",
       "      <td>desk_0256.ply</td>\n",
       "      <td>test</td>\n",
       "      <td>/home/ubuntu/nndlproject/data/modelnet10/ply/d...</td>\n",
       "      <td>0</td>\n",
       "      <td>desk</td>\n",
       "    </tr>\n",
       "    <tr>\n",
       "      <th>3</th>\n",
       "      <td>desk_0260.ply</td>\n",
       "      <td>test</td>\n",
       "      <td>/home/ubuntu/nndlproject/data/modelnet10/ply/d...</td>\n",
       "      <td>0</td>\n",
       "      <td>desk</td>\n",
       "    </tr>\n",
       "    <tr>\n",
       "      <th>4</th>\n",
       "      <td>desk_0219.ply</td>\n",
       "      <td>test</td>\n",
       "      <td>/home/ubuntu/nndlproject/data/modelnet10/ply/d...</td>\n",
       "      <td>0</td>\n",
       "      <td>desk</td>\n",
       "    </tr>\n",
       "  </tbody>\n",
       "</table>\n",
       "</div>"
      ],
      "text/plain": [
       "        filename split                                               path  \\\n",
       "0  desk_0244.ply  test  /home/ubuntu/nndlproject/data/modelnet10/ply/d...   \n",
       "1  desk_0208.ply  test  /home/ubuntu/nndlproject/data/modelnet10/ply/d...   \n",
       "2  desk_0256.ply  test  /home/ubuntu/nndlproject/data/modelnet10/ply/d...   \n",
       "3  desk_0260.ply  test  /home/ubuntu/nndlproject/data/modelnet10/ply/d...   \n",
       "4  desk_0219.ply  test  /home/ubuntu/nndlproject/data/modelnet10/ply/d...   \n",
       "\n",
       "   label label_str  \n",
       "0      0      desk  \n",
       "1      0      desk  \n",
       "2      0      desk  \n",
       "3      0      desk  \n",
       "4      0      desk  "
      ]
     },
     "execution_count": 5,
     "metadata": {},
     "output_type": "execute_result"
    }
   ],
   "source": [
    "import os\n",
    "\n",
    "os.chdir('/home/ubuntu/nndlproject/')\n",
    "\n",
    "from src.dataset import * # import ModelNetDataset class\n",
    "from torch.utils.data import DataLoader\n",
    "import pandas as pd\n",
    "\n",
    "metadata_path = '/home/ubuntu/nndlproject/data/modelnet10/metadata.csv'\n",
    "\n",
    "metadata = pd.read_csv(metadata_path,index_col=0)\n",
    "metadata.head()"
   ]
  },
  {
   "cell_type": "code",
   "execution_count": 11,
   "id": "1474d42b",
   "metadata": {},
   "outputs": [
    {
     "data": {
      "image/png": "[encoded data removed]",
      "text/plain": [
       "<Figure size 432x288 with 1 Axes>"
      ]
     },
     "metadata": {
      "needs_background": "light"
     },
     "output_type": "display_data"
    }
   ],
   "source": [
    "metadata.groupby('split').count()['filename'].plot.bar(title='Split count');"
   ]
  },
  {
   "cell_type": "markdown",
   "id": "2a0e3c82",
   "metadata": {},
   "source": [
    "`ModelNetDataset` is a subclass of the PyTorch `DataSet` class, which is designed to work in pair with the `DataLoader` object. The `DataLoader` accepts, among the other parameters, a batch size, a shuffle option and a `num_workers` for multi processing, and returns the tensors with the added batch dimension as the first axis.\n",
    "\n",
    "The `ModelNetDataset` class requires as an argument a metadata `.csv` file, that contains the id of each sample file, its path, its label and its split set (test or train). It also requires $N$, the resolution of the $N\\times N \\times N$ grid that will be used for voxelization."
   ]
  },
  {
   "cell_type": "code",
   "execution_count": 12,
   "id": "b6447807",
   "metadata": {},
   "outputs": [],
   "source": [
    "dataset = ModelNetDataset(metadata_path=metadata_path,N=30,split='train')\n",
    "loader = DataLoader(dataset,10,shuffle=True,num_workers=8)"
   ]
  },
  {
   "cell_type": "markdown",
   "id": "3ae21b38",
   "metadata": {},
   "source": [
    "The `DataLoader` can be casted as an iterable that yields batches."
   ]
  },
  {
   "cell_type": "code",
   "execution_count": 13,
   "id": "27cfce14",
   "metadata": {},
   "outputs": [],
   "source": [
    "voxel_batch,rot_batch,label_batch=next(iter(loader))"
   ]
  },
  {
   "cell_type": "code",
   "execution_count": 14,
   "id": "b465a6fa",
   "metadata": {},
   "outputs": [
    {
     "name": "stdout",
     "output_type": "stream",
     "text": [
      "torch.Size([10, 1, 30, 30, 30])\n",
      "torch.Size([10, 3])\n",
      "torch.Size([10])\n"
     ]
    }
   ],
   "source": [
    "print(voxel_batch.shape)\n",
    "print(rot_batch.shape)\n",
    "print(label_batch.shape)"
   ]
  },
  {
   "cell_type": "code",
   "execution_count": 15,
   "id": "dc4b5bfa",
   "metadata": {},
   "outputs": [
    {
     "name": "stdout",
     "output_type": "stream",
     "text": [
      "tensor([[[[0, 0, 0,  ..., 0, 0, 0],\n",
      "          [0, 0, 0,  ..., 0, 0, 0],\n",
      "          [0, 0, 0,  ..., 0, 0, 0],\n",
      "          ...,\n",
      "          [0, 0, 0,  ..., 0, 0, 0],\n",
      "          [0, 0, 0,  ..., 0, 0, 0],\n",
      "          [0, 0, 0,  ..., 0, 0, 0]],\n",
      "\n",
      "         [[0, 0, 0,  ..., 0, 0, 0],\n",
      "          [0, 0, 0,  ..., 0, 0, 0],\n",
      "          [0, 0, 0,  ..., 0, 0, 0],\n",
      "          ...,\n",
      "          [0, 0, 0,  ..., 0, 0, 0],\n",
      "          [0, 0, 0,  ..., 0, 0, 0],\n",
      "          [0, 0, 0,  ..., 0, 0, 0]],\n",
      "\n",
      "         [[0, 0, 0,  ..., 0, 0, 0],\n",
      "          [0, 0, 0,  ..., 0, 0, 0],\n",
      "          [0, 0, 0,  ..., 0, 0, 0],\n",
      "          ...,\n",
      "          [0, 0, 0,  ..., 0, 0, 0],\n",
      "          [0, 0, 0,  ..., 0, 0, 0],\n",
      "          [0, 0, 0,  ..., 0, 0, 0]],\n",
      "\n",
      "         ...,\n",
      "\n",
      "         [[0, 0, 0,  ..., 0, 0, 0],\n",
      "          [0, 0, 0,  ..., 0, 0, 0],\n",
      "          [0, 0, 0,  ..., 0, 0, 0],\n",
      "          ...,\n",
      "          [0, 0, 0,  ..., 0, 0, 0],\n",
      "          [0, 0, 0,  ..., 0, 0, 0],\n",
      "          [0, 0, 0,  ..., 0, 0, 0]],\n",
      "\n",
      "         [[0, 0, 0,  ..., 0, 0, 0],\n",
      "          [0, 0, 0,  ..., 0, 0, 0],\n",
      "          [0, 0, 0,  ..., 0, 0, 0],\n",
      "          ...,\n",
      "          [0, 0, 0,  ..., 0, 0, 0],\n",
      "          [0, 0, 0,  ..., 0, 0, 0],\n",
      "          [0, 0, 0,  ..., 0, 0, 0]],\n",
      "\n",
      "         [[0, 0, 0,  ..., 0, 0, 0],\n",
      "          [0, 0, 0,  ..., 0, 0, 0],\n",
      "          [0, 0, 0,  ..., 0, 0, 0],\n",
      "          ...,\n",
      "          [0, 0, 0,  ..., 0, 0, 0],\n",
      "          [0, 0, 0,  ..., 0, 0, 0],\n",
      "          [0, 0, 0,  ..., 0, 0, 0]]]], dtype=torch.int8)\n"
     ]
    }
   ],
   "source": []
  },
  {
   "cell_type": "code",
   "execution_count": null,
   "id": "144f904e",
   "metadata": {},
   "outputs": [],
   "source": []
  }
 ],
 "metadata": {
  "kernelspec": {
   "display_name": "Python 3.9.12 ('base': conda)",
   "language": "python",
   "name": "python3"
  },
  "language_info": {
   "codemirror_mode": {
    "name": "ipython",
    "version": 3
   },
   "file_extension": ".py",
   "mimetype": "text/x-python",
   "name": "python",
   "nbconvert_exporter": "python",
   "pygments_lexer": "ipython3",
   "version": "3.9.12"
  },
  "vscode": {
   "interpreter": {
    "hash": "caf1c2fcf97217de91eafa76b907d50f9ea378f5ffbee7f571142d119bb6a771"
   }
  }
 },
 "nbformat": 4,
 "nbformat_minor": 5
}
